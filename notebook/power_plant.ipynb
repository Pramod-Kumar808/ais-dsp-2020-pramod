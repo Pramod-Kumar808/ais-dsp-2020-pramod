{
 "metadata": {
  "language_info": {
   "codemirror_mode": {
    "name": "ipython",
    "version": 3
   },
   "file_extension": ".py",
   "mimetype": "text/x-python",
   "name": "python",
   "nbconvert_exporter": "python",
   "pygments_lexer": "ipython3",
   "version": "3.6.10"
  },
  "orig_nbformat": 4,
  "kernelspec": {
   "name": "python3",
   "display_name": "Python 3.6.10 64-bit ('tenpy': conda)"
  },
  "interpreter": {
   "hash": "798f5b5431e37c71aaf89733b493b653dbf725e4fef1afdf5d2e121c202eac10"
  }
 },
 "nbformat": 4,
 "nbformat_minor": 2,
 "cells": [
  {
   "cell_type": "code",
   "execution_count": 1,
   "metadata": {},
   "outputs": [],
   "source": [
    "import sys\n",
    "from pathlib import Path\n",
    "\n",
    "PROJECT_DIR = Path('..').resolve()\n",
    "DATA_DIR = PROJECT_DIR / 'data/power-plant'"
   ]
  },
  {
   "cell_type": "code",
   "execution_count": 2,
   "metadata": {},
   "outputs": [
    {
     "output_type": "execute_result",
     "data": {
      "text/plain": [
       "          AT      V       AP     RH      PE\n",
       "0      14.96  41.76  1024.07  73.17  463.26\n",
       "1      25.18  62.96  1020.04  59.08  444.37\n",
       "2       5.11  39.40  1012.16  92.14  488.56\n",
       "3      20.86  57.32  1010.24  76.64  446.48\n",
       "4      10.82  37.50  1009.23  96.62  473.90\n",
       "...      ...    ...      ...    ...     ...\n",
       "47835  15.12  48.92  1011.80  72.93  462.59\n",
       "47836  33.41  77.95  1010.30  59.72  432.90\n",
       "47837  15.99  43.34  1014.20  78.66  465.96\n",
       "47838  17.65  59.87  1018.58  94.65  450.93\n",
       "47839  23.68  51.30  1011.86  71.24  451.67\n",
       "\n",
       "[47840 rows x 5 columns]"
      ],
      "text/html": "<div>\n<style scoped>\n    .dataframe tbody tr th:only-of-type {\n        vertical-align: middle;\n    }\n\n    .dataframe tbody tr th {\n        vertical-align: top;\n    }\n\n    .dataframe thead th {\n        text-align: right;\n    }\n</style>\n<table border=\"1\" class=\"dataframe\">\n  <thead>\n    <tr style=\"text-align: right;\">\n      <th></th>\n      <th>AT</th>\n      <th>V</th>\n      <th>AP</th>\n      <th>RH</th>\n      <th>PE</th>\n    </tr>\n  </thead>\n  <tbody>\n    <tr>\n      <th>0</th>\n      <td>14.96</td>\n      <td>41.76</td>\n      <td>1024.07</td>\n      <td>73.17</td>\n      <td>463.26</td>\n    </tr>\n    <tr>\n      <th>1</th>\n      <td>25.18</td>\n      <td>62.96</td>\n      <td>1020.04</td>\n      <td>59.08</td>\n      <td>444.37</td>\n    </tr>\n    <tr>\n      <th>2</th>\n      <td>5.11</td>\n      <td>39.40</td>\n      <td>1012.16</td>\n      <td>92.14</td>\n      <td>488.56</td>\n    </tr>\n    <tr>\n      <th>3</th>\n      <td>20.86</td>\n      <td>57.32</td>\n      <td>1010.24</td>\n      <td>76.64</td>\n      <td>446.48</td>\n    </tr>\n    <tr>\n      <th>4</th>\n      <td>10.82</td>\n      <td>37.50</td>\n      <td>1009.23</td>\n      <td>96.62</td>\n      <td>473.90</td>\n    </tr>\n    <tr>\n      <th>...</th>\n      <td>...</td>\n      <td>...</td>\n      <td>...</td>\n      <td>...</td>\n      <td>...</td>\n    </tr>\n    <tr>\n      <th>47835</th>\n      <td>15.12</td>\n      <td>48.92</td>\n      <td>1011.80</td>\n      <td>72.93</td>\n      <td>462.59</td>\n    </tr>\n    <tr>\n      <th>47836</th>\n      <td>33.41</td>\n      <td>77.95</td>\n      <td>1010.30</td>\n      <td>59.72</td>\n      <td>432.90</td>\n    </tr>\n    <tr>\n      <th>47837</th>\n      <td>15.99</td>\n      <td>43.34</td>\n      <td>1014.20</td>\n      <td>78.66</td>\n      <td>465.96</td>\n    </tr>\n    <tr>\n      <th>47838</th>\n      <td>17.65</td>\n      <td>59.87</td>\n      <td>1018.58</td>\n      <td>94.65</td>\n      <td>450.93</td>\n    </tr>\n    <tr>\n      <th>47839</th>\n      <td>23.68</td>\n      <td>51.30</td>\n      <td>1011.86</td>\n      <td>71.24</td>\n      <td>451.67</td>\n    </tr>\n  </tbody>\n</table>\n<p>47840 rows × 5 columns</p>\n</div>"
     },
     "metadata": {},
     "execution_count": 2
    }
   ],
   "source": [
    "import pandas as pd\n",
    "\n",
    "dataset = pd.read_csv(DATA_DIR / 'power_plants.csv')\n",
    "dataset"
   ]
  },
  {
   "cell_type": "code",
   "execution_count": 3,
   "metadata": {},
   "outputs": [],
   "source": [
    "import numpy as np\n",
    "dataset['Device_Id'] = np.random.randint(0, 3, dataset.shape[0])"
   ]
  },
  {
   "cell_type": "code",
   "execution_count": 4,
   "metadata": {},
   "outputs": [
    {
     "output_type": "execute_result",
     "data": {
      "text/plain": [
       "      AT      V       AP     RH      PE  Device_Id\n",
       "0  14.96  41.76  1024.07  73.17  463.26          2\n",
       "1  25.18  62.96  1020.04  59.08  444.37          1\n",
       "2   5.11  39.40  1012.16  92.14  488.56          0\n",
       "3  20.86  57.32  1010.24  76.64  446.48          1\n",
       "4  10.82  37.50  1009.23  96.62  473.90          1"
      ],
      "text/html": "<div>\n<style scoped>\n    .dataframe tbody tr th:only-of-type {\n        vertical-align: middle;\n    }\n\n    .dataframe tbody tr th {\n        vertical-align: top;\n    }\n\n    .dataframe thead th {\n        text-align: right;\n    }\n</style>\n<table border=\"1\" class=\"dataframe\">\n  <thead>\n    <tr style=\"text-align: right;\">\n      <th></th>\n      <th>AT</th>\n      <th>V</th>\n      <th>AP</th>\n      <th>RH</th>\n      <th>PE</th>\n      <th>Device_Id</th>\n    </tr>\n  </thead>\n  <tbody>\n    <tr>\n      <th>0</th>\n      <td>14.96</td>\n      <td>41.76</td>\n      <td>1024.07</td>\n      <td>73.17</td>\n      <td>463.26</td>\n      <td>2</td>\n    </tr>\n    <tr>\n      <th>1</th>\n      <td>25.18</td>\n      <td>62.96</td>\n      <td>1020.04</td>\n      <td>59.08</td>\n      <td>444.37</td>\n      <td>1</td>\n    </tr>\n    <tr>\n      <th>2</th>\n      <td>5.11</td>\n      <td>39.40</td>\n      <td>1012.16</td>\n      <td>92.14</td>\n      <td>488.56</td>\n      <td>0</td>\n    </tr>\n    <tr>\n      <th>3</th>\n      <td>20.86</td>\n      <td>57.32</td>\n      <td>1010.24</td>\n      <td>76.64</td>\n      <td>446.48</td>\n      <td>1</td>\n    </tr>\n    <tr>\n      <th>4</th>\n      <td>10.82</td>\n      <td>37.50</td>\n      <td>1009.23</td>\n      <td>96.62</td>\n      <td>473.90</td>\n      <td>1</td>\n    </tr>\n  </tbody>\n</table>\n</div>"
     },
     "metadata": {},
     "execution_count": 4
    }
   ],
   "source": [
    "dataset.head()"
   ]
  },
  {
   "cell_type": "code",
   "execution_count": 19,
   "metadata": {},
   "outputs": [],
   "source": [
    "mlflow.set_tracking_uri('http://127.0.0.1:5000')"
   ]
  },
  {
   "cell_type": "code",
   "execution_count": 21,
   "metadata": {},
   "outputs": [
    {
     "output_type": "stream",
     "name": "stdout",
     "text": [
      "INFO: 'Power Plant mlflow' does not exist. Creating a new experiment\n"
     ]
    }
   ],
   "source": [
    "mlflow.set_experiment(\"Power Plant mlflow\")"
   ]
  },
  {
   "cell_type": "code",
   "execution_count": 94,
   "metadata": {},
   "outputs": [],
   "source": [
    "import mlflow\n",
    "from sklearn.model_selection import train_test_split\n",
    "from sklearn.ensemble import RandomForestRegressor\n",
    "from sklearn.metrics import mean_squared_error,mean_absolute_error, r2_score\n",
    "\n",
    "def train_fun(Dataset: pd.DataFrame) -> dict:\n",
    "    device = dataset[\"Device_Id\"].iloc[0]\n",
    "    \n",
    "    with mlflow.start_run(run_name= f\"{device}\", nested=True):\n",
    "        X = Dataset[[\"AT\",\"V\",\"AP\",\"RH\"]]\n",
    "        y = Dataset[\"PE\"]\n",
    "        X_train, X_test, y_train, y_test = train_test_split(X,y, test_size=0.2, random_state=42)\n",
    "        model = RandomForestRegressor()\n",
    "        model.fit(X_train, y_train)\n",
    "        # m = mlflow.sklearn.log_model(model)\n",
    "        y_pred = model.predict(X_test)\n",
    "        mse = mean_squared_error(y_test, y_pred)\n",
    "        r_2 = r2_score(y_test, y_pred)\n",
    "        mae = mean_absolute_error(y_test, y_pred)\n",
    "\n",
    "        mlflow.log_metrics({'rmse': mse, 'mae': mae, 'r2': r_2})\n",
    "        print(f'RMSE = {mse:.2f}, MAE = {mae:.2f}, R2 = {r_2:.2f}')\n",
    "    return mse, r_2, mae"
   ]
  },
  {
   "cell_type": "code",
   "execution_count": 95,
   "metadata": {},
   "outputs": [
    {
     "output_type": "stream",
     "name": "stdout",
     "text": [
      "2\n",
      "RMSE = 0.08, MAE = 0.14, R2 = 1.00\n"
     ]
    },
    {
     "output_type": "execute_result",
     "data": {
      "text/plain": [
       "(0.07905680137542151, 0.9997281184948631, 0.13910934364553004)"
      ]
     },
     "metadata": {},
     "execution_count": 95
    }
   ],
   "source": [
    "train_fun(dataset)"
   ]
  },
  {
   "cell_type": "code",
   "execution_count": 91,
   "metadata": {},
   "outputs": [
    {
     "output_type": "stream",
     "name": "stdout",
     "text": [
      "RMSE = 3.47, MAE = 1.13, R2 = 0.99\n"
     ]
    }
   ],
   "source": [
    "with mlflow.start_run(run_name=\"testing the model\"):\n",
    "    train_fun(dataset[dataset.Device_Id == 1])"
   ]
  },
  {
   "cell_type": "code",
   "execution_count": 92,
   "metadata": {},
   "outputs": [
    {
     "output_type": "stream",
     "name": "stdout",
     "text": [
      "RMSE = 3.02, MAE = 1.06, R2 = 0.99\n",
      "RMSE = 3.60, MAE = 1.14, R2 = 0.99\n",
      "RMSE = 3.79, MAE = 1.12, R2 = 0.99\n"
     ]
    }
   ],
   "source": [
    "with mlflow.start_run(run_name=\"Groupby device name\"):\n",
    "    dataset.groupby(\"Device_Id\").apply(train_fun)"
   ]
  },
  {
   "cell_type": "code",
   "execution_count": 93,
   "metadata": {},
   "outputs": [
    {
     "output_type": "stream",
     "name": "stdout",
     "text": [
      "RMSE = 3.15, MAE = 1.07, R2 = 0.99\n",
      "(3.1486588165990614, 0.9891730802956553, 1.0706565366614584)\n",
      "RMSE = 3.55, MAE = 1.15, R2 = 0.99\n",
      "(3.549176980381937, 0.9879843358868837, 1.1533560921717307)\n",
      "RMSE = 3.80, MAE = 1.12, R2 = 0.99\n",
      "(3.795351743177971, 0.9870804749766342, 1.122086205817946)\n"
     ]
    }
   ],
   "source": [
    "with mlflow.start_run(run_name=\"MLflow test\"):\n",
    "    for i in range(3):\n",
    "        result = train_fun(dataset[dataset[\"Device_Id\"] == i])\n",
    "        print(result)"
   ]
  },
  {
   "source": [
    "# Dividing the dataset using distrubution and random sampling "
   ],
   "cell_type": "markdown",
   "metadata": {}
  },
  {
   "cell_type": "code",
   "execution_count": 55,
   "metadata": {},
   "outputs": [],
   "source": [
    "dataset_lower_distrubution = dataset[dataset[\"PE\"] < 450]"
   ]
  },
  {
   "cell_type": "code",
   "execution_count": 57,
   "metadata": {},
   "outputs": [
    {
     "output_type": "execute_result",
     "data": {
      "text/plain": [
       "array([0.22056988, 0.45601625, 0.45976602, ..., 0.43841309, 0.3033041 ,\n",
       "       0.45296419])"
      ]
     },
     "metadata": {},
     "execution_count": 57
    }
   ],
   "source": [
    "index = np.random.rand(len(dataset_lower_distrubution))\n",
    "index"
   ]
  },
  {
   "cell_type": "code",
   "execution_count": 58,
   "metadata": {},
   "outputs": [
    {
     "output_type": "execute_result",
     "data": {
      "text/plain": [
       "array([ True,  True,  True, ...,  True,  True,  True])"
      ]
     },
     "metadata": {},
     "execution_count": 58
    }
   ],
   "source": [
    "mask = index < 0.5\n",
    "mask"
   ]
  },
  {
   "cell_type": "code",
   "execution_count": 59,
   "metadata": {},
   "outputs": [],
   "source": [
    "dataset_march = dataset_lower_distrubution[mask]\n",
    "dataset_april = dataset_lower_distrubution[~mask]"
   ]
  },
  {
   "cell_type": "code",
   "execution_count": 67,
   "metadata": {},
   "outputs": [
    {
     "output_type": "stream",
     "name": "stdout",
     "text": [
      "Oraginal dataset (47840, 6)  -------  Split for April (11374, 6)  ---------- Split for March (11401, 6)\n"
     ]
    }
   ],
   "source": [
    "print(\"Oraginal dataset\",dataset.shape, \" -------  Split for April\",dataset_april.shape,\" ---------- Split for March\", dataset_march.shape)"
   ]
  },
  {
   "cell_type": "code",
   "execution_count": 68,
   "metadata": {},
   "outputs": [],
   "source": [
    "dataset_higher_distrubution = dataset[dataset[\"PE\"] >= 450]\n",
    "high_mask = np.random.rand(len(dataset_higher_distrubution)) < 0.5"
   ]
  },
  {
   "cell_type": "code",
   "execution_count": null,
   "metadata": {},
   "outputs": [],
   "source": [
    "dataset_may = dataset_higher_distrubution[high_mask]\n",
    "dataset_june = data"
   ]
  },
  {
   "cell_type": "code",
   "execution_count": 96,
   "metadata": {},
   "outputs": [],
   "source": [
    "def mapping(month_df: pd.DataFrame, month: str):\n",
    "    with mlflow.start_run(run_name=month):\n",
    "        dataset_march.apply(train_fun)"
   ]
  },
  {
   "cell_type": "code",
   "execution_count": null,
   "metadata": {},
   "outputs": [],
   "source": []
  }
 ]
}