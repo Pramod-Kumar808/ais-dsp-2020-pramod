{
 "cells": [
  {
   "cell_type": "code",
   "execution_count": 1,
   "id": "forbidden-president",
   "metadata": {},
   "outputs": [],
   "source": [
    "%load_ext autoreload\n",
    "%autoreload 2"
   ]
  },
  {
   "cell_type": "code",
   "execution_count": 2,
   "id": "genetic-script",
   "metadata": {},
   "outputs": [],
   "source": [
    "import sys\n",
    "from pathlib import Path\n",
    "\n",
    "import pandas as pd"
   ]
  },
  {
   "cell_type": "code",
   "execution_count": 3,
   "id": "removable-minnesota",
   "metadata": {},
   "outputs": [],
   "source": [
    "pd.set_option('display.max_columns', 20)"
   ]
  },
  {
   "cell_type": "code",
   "execution_count": 4,
   "id": "taken-louisiana",
   "metadata": {},
   "outputs": [],
   "source": [
    "PROJECT_DIR = Path('..').resolve()\n",
    "DATA_DIR = PROJECT_DIR / 'data/house-prices'\n",
    "MODELS_DIR = PROJECT_DIR / 'models'"
   ]
  },
  {
   "cell_type": "code",
   "execution_count": 5,
   "metadata": {},
   "outputs": [
    {
     "output_type": "execute_result",
     "data": {
      "text/plain": [
       "WindowsPath('C:/Users/npram/Desktop/EPITA/CLASS and NOTES/SEM2/Data_science_production/dsp-correction')"
      ]
     },
     "metadata": {},
     "execution_count": 5
    }
   ],
   "source": [
    "PROJECT_DIR"
   ]
  },
  {
   "cell_type": "code",
   "execution_count": 6,
   "id": "russian-strength",
   "metadata": {},
   "outputs": [
    {
     "output_type": "stream",
     "name": "stderr",
     "text": [
      "The syntax of the command is incorrect.\n"
     ]
    }
   ],
   "source": [
    "!mkdir ../../models"
   ]
  },
  {
   "cell_type": "code",
   "execution_count": 7,
   "id": "understanding-queen",
   "metadata": {
    "scrolled": false
   },
   "outputs": [
    {
     "output_type": "execute_result",
     "data": {
      "text/plain": [
       "    MSSubClass MSZoning  LotFrontage  LotArea Street Alley LotShape  \\\n",
       "Id                                                                    \n",
       "1           60       RL         65.0     8450   Pave   NaN      Reg   \n",
       "2           20       RL         80.0     9600   Pave   NaN      Reg   \n",
       "3           60       RL         68.0    11250   Pave   NaN      IR1   \n",
       "4           70       RL         60.0     9550   Pave   NaN      IR1   \n",
       "5           60       RL         84.0    14260   Pave   NaN      IR1   \n",
       "\n",
       "   LandContour Utilities LotConfig  ... PoolArea PoolQC Fence MiscFeature  \\\n",
       "Id                                  ...                                     \n",
       "1          Lvl    AllPub    Inside  ...        0    NaN   NaN         NaN   \n",
       "2          Lvl    AllPub       FR2  ...        0    NaN   NaN         NaN   \n",
       "3          Lvl    AllPub    Inside  ...        0    NaN   NaN         NaN   \n",
       "4          Lvl    AllPub    Corner  ...        0    NaN   NaN         NaN   \n",
       "5          Lvl    AllPub       FR2  ...        0    NaN   NaN         NaN   \n",
       "\n",
       "   MiscVal MoSold  YrSold  SaleType  SaleCondition  SalePrice  \n",
       "Id                                                             \n",
       "1        0      2    2008        WD         Normal     208500  \n",
       "2        0      5    2007        WD         Normal     181500  \n",
       "3        0      9    2008        WD         Normal     223500  \n",
       "4        0      2    2006        WD        Abnorml     140000  \n",
       "5        0     12    2008        WD         Normal     250000  \n",
       "\n",
       "[5 rows x 80 columns]"
      ],
      "text/html": "<div>\n<style scoped>\n    .dataframe tbody tr th:only-of-type {\n        vertical-align: middle;\n    }\n\n    .dataframe tbody tr th {\n        vertical-align: top;\n    }\n\n    .dataframe thead th {\n        text-align: right;\n    }\n</style>\n<table border=\"1\" class=\"dataframe\">\n  <thead>\n    <tr style=\"text-align: right;\">\n      <th></th>\n      <th>MSSubClass</th>\n      <th>MSZoning</th>\n      <th>LotFrontage</th>\n      <th>LotArea</th>\n      <th>Street</th>\n      <th>Alley</th>\n      <th>LotShape</th>\n      <th>LandContour</th>\n      <th>Utilities</th>\n      <th>LotConfig</th>\n      <th>...</th>\n      <th>PoolArea</th>\n      <th>PoolQC</th>\n      <th>Fence</th>\n      <th>MiscFeature</th>\n      <th>MiscVal</th>\n      <th>MoSold</th>\n      <th>YrSold</th>\n      <th>SaleType</th>\n      <th>SaleCondition</th>\n      <th>SalePrice</th>\n    </tr>\n    <tr>\n      <th>Id</th>\n      <th></th>\n      <th></th>\n      <th></th>\n      <th></th>\n      <th></th>\n      <th></th>\n      <th></th>\n      <th></th>\n      <th></th>\n      <th></th>\n      <th></th>\n      <th></th>\n      <th></th>\n      <th></th>\n      <th></th>\n      <th></th>\n      <th></th>\n      <th></th>\n      <th></th>\n      <th></th>\n      <th></th>\n    </tr>\n  </thead>\n  <tbody>\n    <tr>\n      <th>1</th>\n      <td>60</td>\n      <td>RL</td>\n      <td>65.0</td>\n      <td>8450</td>\n      <td>Pave</td>\n      <td>NaN</td>\n      <td>Reg</td>\n      <td>Lvl</td>\n      <td>AllPub</td>\n      <td>Inside</td>\n      <td>...</td>\n      <td>0</td>\n      <td>NaN</td>\n      <td>NaN</td>\n      <td>NaN</td>\n      <td>0</td>\n      <td>2</td>\n      <td>2008</td>\n      <td>WD</td>\n      <td>Normal</td>\n      <td>208500</td>\n    </tr>\n    <tr>\n      <th>2</th>\n      <td>20</td>\n      <td>RL</td>\n      <td>80.0</td>\n      <td>9600</td>\n      <td>Pave</td>\n      <td>NaN</td>\n      <td>Reg</td>\n      <td>Lvl</td>\n      <td>AllPub</td>\n      <td>FR2</td>\n      <td>...</td>\n      <td>0</td>\n      <td>NaN</td>\n      <td>NaN</td>\n      <td>NaN</td>\n      <td>0</td>\n      <td>5</td>\n      <td>2007</td>\n      <td>WD</td>\n      <td>Normal</td>\n      <td>181500</td>\n    </tr>\n    <tr>\n      <th>3</th>\n      <td>60</td>\n      <td>RL</td>\n      <td>68.0</td>\n      <td>11250</td>\n      <td>Pave</td>\n      <td>NaN</td>\n      <td>IR1</td>\n      <td>Lvl</td>\n      <td>AllPub</td>\n      <td>Inside</td>\n      <td>...</td>\n      <td>0</td>\n      <td>NaN</td>\n      <td>NaN</td>\n      <td>NaN</td>\n      <td>0</td>\n      <td>9</td>\n      <td>2008</td>\n      <td>WD</td>\n      <td>Normal</td>\n      <td>223500</td>\n    </tr>\n    <tr>\n      <th>4</th>\n      <td>70</td>\n      <td>RL</td>\n      <td>60.0</td>\n      <td>9550</td>\n      <td>Pave</td>\n      <td>NaN</td>\n      <td>IR1</td>\n      <td>Lvl</td>\n      <td>AllPub</td>\n      <td>Corner</td>\n      <td>...</td>\n      <td>0</td>\n      <td>NaN</td>\n      <td>NaN</td>\n      <td>NaN</td>\n      <td>0</td>\n      <td>2</td>\n      <td>2006</td>\n      <td>WD</td>\n      <td>Abnorml</td>\n      <td>140000</td>\n    </tr>\n    <tr>\n      <th>5</th>\n      <td>60</td>\n      <td>RL</td>\n      <td>84.0</td>\n      <td>14260</td>\n      <td>Pave</td>\n      <td>NaN</td>\n      <td>IR1</td>\n      <td>Lvl</td>\n      <td>AllPub</td>\n      <td>FR2</td>\n      <td>...</td>\n      <td>0</td>\n      <td>NaN</td>\n      <td>NaN</td>\n      <td>NaN</td>\n      <td>0</td>\n      <td>12</td>\n      <td>2008</td>\n      <td>WD</td>\n      <td>Normal</td>\n      <td>250000</td>\n    </tr>\n  </tbody>\n</table>\n<p>5 rows × 80 columns</p>\n</div>"
     },
     "metadata": {},
     "execution_count": 7
    }
   ],
   "source": [
    "df_master = pd.read_csv(DATA_DIR / 'train.csv', index_col='Id')\n",
    "df_master.head()"
   ]
  },
  {
   "cell_type": "code",
   "execution_count": 8,
   "metadata": {},
   "outputs": [
    {
     "output_type": "stream",
     "name": "stdout",
     "text": [
      "c:\\Users\\npram\\Desktop\\EPITA\\CLASS and NOTES\\SEM2\\Data_science_production\\dsp-correction\n"
     ]
    }
   ],
   "source": [
    "cd .."
   ]
  },
  {
   "cell_type": "code",
   "execution_count": 9,
   "id": "administrative-crazy",
   "metadata": {
    "tags": [
     "outputPrepend"
    ]
   },
   "outputs": [
    {
     "output_type": "stream",
     "name": "stdout",
     "text": [
      "n\\utils\\validation.py:516: UserWarning: pandas.DataFrame with sparse columns found.It will be converted to a dense numpy array.\n",
      "  \"pandas.DataFrame with sparse columns found.\"\n",
      "C:\\Users\\npram\\anaconda3\\envs\\tenpy\\lib\\site-packages\\sklearn\\utils\\validation.py:516: UserWarning: pandas.DataFrame with sparse columns found.It will be converted to a dense numpy array.\n",
      "  \"pandas.DataFrame with sparse columns found.\"\n",
      "C:\\Users\\npram\\anaconda3\\envs\\tenpy\\lib\\site-packages\\sklearn\\utils\\validation.py:516: UserWarning: pandas.DataFrame with sparse columns found.It will be converted to a dense numpy array.\n",
      "  \"pandas.DataFrame with sparse columns found.\"\n",
      "C:\\Users\\npram\\anaconda3\\envs\\tenpy\\lib\\site-packages\\sklearn\\utils\\validation.py:516: UserWarning: pandas.DataFrame with sparse columns found.It will be converted to a dense numpy array.\n",
      "  \"pandas.DataFrame with sparse columns found.\"\n",
      "C:\\Users\\npram\\anaconda3\\envs\\tenpy\\lib\\site-packages\\sklearn\\utils\\validation.py:516: UserWarning: pandas.DataFrame with sparse columns found.It will be converted to a dense numpy array.\n",
      "  \"pandas.DataFrame with sparse columns found.\"\n",
      "C:\\Users\\npram\\anaconda3\\envs\\tenpy\\lib\\site-packages\\sklearn\\utils\\validation.py:516: UserWarning: pandas.DataFrame with sparse columns found.It will be converted to a dense numpy array.\n",
      "  \"pandas.DataFrame with sparse columns found.\"\n",
      "C:\\Users\\npram\\anaconda3\\envs\\tenpy\\lib\\site-packages\\sklearn\\utils\\validation.py:516: UserWarning: pandas.DataFrame with sparse columns found.It will be converted to a dense numpy array.\n",
      "  \"pandas.DataFrame with sparse columns found.\"\n",
      "C:\\Users\\npram\\anaconda3\\envs\\tenpy\\lib\\site-packages\\sklearn\\utils\\validation.py:516: UserWarning: pandas.DataFrame with sparse columns found.It will be converted to a dense numpy array.\n",
      "  \"pandas.DataFrame with sparse columns found.\"\n",
      "C:\\Users\\npram\\anaconda3\\envs\\tenpy\\lib\\site-packages\\sklearn\\utils\\validation.py:516: UserWarning: pandas.DataFrame with sparse columns found.It will be converted to a dense numpy array.\n",
      "  \"pandas.DataFrame with sparse columns found.\"\n",
      "C:\\Users\\npram\\anaconda3\\envs\\tenpy\\lib\\site-packages\\sklearn\\utils\\validation.py:516: UserWarning: pandas.DataFrame with sparse columns found.It will be converted to a dense numpy array.\n",
      "  \"pandas.DataFrame with sparse columns found.\"\n",
      "C:\\Users\\npram\\anaconda3\\envs\\tenpy\\lib\\site-packages\\sklearn\\utils\\validation.py:516: UserWarning: pandas.DataFrame with sparse columns found.It will be converted to a dense numpy array.\n",
      "  \"pandas.DataFrame with sparse columns found.\"\n",
      "C:\\Users\\npram\\anaconda3\\envs\\tenpy\\lib\\site-packages\\sklearn\\utils\\validation.py:516: UserWarning: pandas.DataFrame with sparse columns found.It will be converted to a dense numpy array.\n",
      "  \"pandas.DataFrame with sparse columns found.\"\n",
      "C:\\Users\\npram\\anaconda3\\envs\\tenpy\\lib\\site-packages\\sklearn\\utils\\validation.py:516: UserWarning: pandas.DataFrame with sparse columns found.It will be converted to a dense numpy array.\n",
      "  \"pandas.DataFrame with sparse columns found.\"\n",
      "C:\\Users\\npram\\anaconda3\\envs\\tenpy\\lib\\site-packages\\sklearn\\utils\\validation.py:516: UserWarning: pandas.DataFrame with sparse columns found.It will be converted to a dense numpy array.\n",
      "  \"pandas.DataFrame with sparse columns found.\"\n",
      "C:\\Users\\npram\\anaconda3\\envs\\tenpy\\lib\\site-packages\\sklearn\\utils\\validation.py:516: UserWarning: pandas.DataFrame with sparse columns found.It will be converted to a dense numpy array.\n",
      "  \"pandas.DataFrame with sparse columns found.\"\n",
      "C:\\Users\\npram\\anaconda3\\envs\\tenpy\\lib\\site-packages\\sklearn\\utils\\validation.py:516: UserWarning: pandas.DataFrame with sparse columns found.It will be converted to a dense numpy array.\n",
      "  \"pandas.DataFrame with sparse columns found.\"\n",
      "C:\\Users\\npram\\anaconda3\\envs\\tenpy\\lib\\site-packages\\sklearn\\utils\\validation.py:516: UserWarning: pandas.DataFrame with sparse columns found.It will be converted to a dense numpy array.\n",
      "  \"pandas.DataFrame with sparse columns found.\"\n",
      "C:\\Users\\npram\\anaconda3\\envs\\tenpy\\lib\\site-packages\\sklearn\\utils\\validation.py:516: UserWarning: pandas.DataFrame with sparse columns found.It will be converted to a dense numpy array.\n",
      "  \"pandas.DataFrame with sparse columns found.\"\n",
      "C:\\Users\\npram\\anaconda3\\envs\\tenpy\\lib\\site-packages\\sklearn\\utils\\validation.py:516: UserWarning: pandas.DataFrame with sparse columns found.It will be converted to a dense numpy array.\n",
      "  \"pandas.DataFrame with sparse columns found.\"\n",
      "C:\\Users\\npram\\anaconda3\\envs\\tenpy\\lib\\site-packages\\sklearn\\utils\\validation.py:516: UserWarning: pandas.DataFrame with sparse columns found.It will be converted to a dense numpy array.\n",
      "  \"pandas.DataFrame with sparse columns found.\"\n",
      "C:\\Users\\npram\\anaconda3\\envs\\tenpy\\lib\\site-packages\\sklearn\\utils\\validation.py:516: UserWarning: pandas.DataFrame with sparse columns found.It will be converted to a dense numpy array.\n",
      "  \"pandas.DataFrame with sparse columns found.\"\n",
      "C:\\Users\\npram\\anaconda3\\envs\\tenpy\\lib\\site-packages\\sklearn\\utils\\validation.py:516: UserWarning: pandas.DataFrame with sparse columns found.It will be converted to a dense numpy array.\n",
      "  \"pandas.DataFrame with sparse columns found.\"\n",
      "C:\\Users\\npram\\anaconda3\\envs\\tenpy\\lib\\site-packages\\sklearn\\utils\\validation.py:516: UserWarning: pandas.DataFrame with sparse columns found.It will be converted to a dense numpy array.\n",
      "  \"pandas.DataFrame with sparse columns found.\"\n",
      "C:\\Users\\npram\\anaconda3\\envs\\tenpy\\lib\\site-packages\\sklearn\\utils\\validation.py:516: UserWarning: pandas.DataFrame with sparse columns found.It will be converted to a dense numpy array.\n",
      "  \"pandas.DataFrame with sparse columns found.\"\n",
      "C:\\Users\\npram\\anaconda3\\envs\\tenpy\\lib\\site-packages\\sklearn\\utils\\validation.py:516: UserWarning: pandas.DataFrame with sparse columns found.It will be converted to a dense numpy array.\n",
      "  \"pandas.DataFrame with sparse columns found.\"\n",
      "C:\\Users\\npram\\anaconda3\\envs\\tenpy\\lib\\site-packages\\sklearn\\utils\\validation.py:516: UserWarning: pandas.DataFrame with sparse columns found.It will be converted to a dense numpy array.\n",
      "  \"pandas.DataFrame with sparse columns found.\"\n",
      "C:\\Users\\npram\\anaconda3\\envs\\tenpy\\lib\\site-packages\\sklearn\\utils\\validation.py:516: UserWarning: pandas.DataFrame with sparse columns found.It will be converted to a dense numpy array.\n",
      "  \"pandas.DataFrame with sparse columns found.\"\n",
      "C:\\Users\\npram\\anaconda3\\envs\\tenpy\\lib\\site-packages\\sklearn\\utils\\validation.py:516: UserWarning: pandas.DataFrame with sparse columns found.It will be converted to a dense numpy array.\n",
      "  \"pandas.DataFrame with sparse columns found.\"\n",
      "C:\\Users\\npram\\anaconda3\\envs\\tenpy\\lib\\site-packages\\sklearn\\utils\\validation.py:516: UserWarning: pandas.DataFrame with sparse columns found.It will be converted to a dense numpy array.\n",
      "  \"pandas.DataFrame with sparse columns found.\"\n",
      "C:\\Users\\npram\\anaconda3\\envs\\tenpy\\lib\\site-packages\\sklearn\\utils\\validation.py:516: UserWarning: pandas.DataFrame with sparse columns found.It will be converted to a dense numpy array.\n",
      "  \"pandas.DataFrame with sparse columns found.\"\n",
      "C:\\Users\\npram\\anaconda3\\envs\\tenpy\\lib\\site-packages\\sklearn\\utils\\validation.py:516: UserWarning: pandas.DataFrame with sparse columns found.It will be converted to a dense numpy array.\n",
      "  \"pandas.DataFrame with sparse columns found.\"\n",
      "C:\\Users\\npram\\anaconda3\\envs\\tenpy\\lib\\site-packages\\sklearn\\utils\\validation.py:516: UserWarning: pandas.DataFrame with sparse columns found.It will be converted to a dense numpy array.\n",
      "  \"pandas.DataFrame with sparse columns found.\"\n",
      "C:\\Users\\npram\\anaconda3\\envs\\tenpy\\lib\\site-packages\\sklearn\\utils\\validation.py:516: UserWarning: pandas.DataFrame with sparse columns found.It will be converted to a dense numpy array.\n",
      "  \"pandas.DataFrame with sparse columns found.\"\n",
      "C:\\Users\\npram\\anaconda3\\envs\\tenpy\\lib\\site-packages\\sklearn\\utils\\validation.py:516: UserWarning: pandas.DataFrame with sparse columns found.It will be converted to a dense numpy array.\n",
      "  \"pandas.DataFrame with sparse columns found.\"\n",
      "C:\\Users\\npram\\anaconda3\\envs\\tenpy\\lib\\site-packages\\sklearn\\utils\\validation.py:516: UserWarning: pandas.DataFrame with sparse columns found.It will be converted to a dense numpy array.\n",
      "  \"pandas.DataFrame with sparse columns found.\"\n",
      "C:\\Users\\npram\\anaconda3\\envs\\tenpy\\lib\\site-packages\\sklearn\\utils\\validation.py:516: UserWarning: pandas.DataFrame with sparse columns found.It will be converted to a dense numpy array.\n",
      "  \"pandas.DataFrame with sparse columns found.\"\n",
      "C:\\Users\\npram\\anaconda3\\envs\\tenpy\\lib\\site-packages\\sklearn\\utils\\validation.py:516: UserWarning: pandas.DataFrame with sparse columns found.It will be converted to a dense numpy array.\n",
      "  \"pandas.DataFrame with sparse columns found.\"\n",
      "C:\\Users\\npram\\anaconda3\\envs\\tenpy\\lib\\site-packages\\sklearn\\utils\\validation.py:516: UserWarning: pandas.DataFrame with sparse columns found.It will be converted to a dense numpy array.\n",
      "  \"pandas.DataFrame with sparse columns found.\"\n",
      "C:\\Users\\npram\\anaconda3\\envs\\tenpy\\lib\\site-packages\\sklearn\\utils\\validation.py:516: UserWarning: pandas.DataFrame with sparse columns found.It will be converted to a dense numpy array.\n",
      "  \"pandas.DataFrame with sparse columns found.\"\n",
      "C:\\Users\\npram\\anaconda3\\envs\\tenpy\\lib\\site-packages\\sklearn\\utils\\validation.py:516: UserWarning: pandas.DataFrame with sparse columns found.It will be converted to a dense numpy array.\n",
      "  \"pandas.DataFrame with sparse columns found.\"\n",
      "C:\\Users\\npram\\anaconda3\\envs\\tenpy\\lib\\site-packages\\sklearn\\utils\\validation.py:516: UserWarning: pandas.DataFrame with sparse columns found.It will be converted to a dense numpy array.\n",
      "  \"pandas.DataFrame with sparse columns found.\"\n",
      "C:\\Users\\npram\\anaconda3\\envs\\tenpy\\lib\\site-packages\\sklearn\\utils\\validation.py:516: UserWarning: pandas.DataFrame with sparse columns found.It will be converted to a dense numpy array.\n",
      "  \"pandas.DataFrame with sparse columns found.\"\n",
      "C:\\Users\\npram\\anaconda3\\envs\\tenpy\\lib\\site-packages\\sklearn\\utils\\validation.py:516: UserWarning: pandas.DataFrame with sparse columns found.It will be converted to a dense numpy array.\n",
      "  \"pandas.DataFrame with sparse columns found.\"\n",
      "C:\\Users\\npram\\anaconda3\\envs\\tenpy\\lib\\site-packages\\sklearn\\utils\\validation.py:516: UserWarning: pandas.DataFrame with sparse columns found.It will be converted to a dense numpy array.\n",
      "  \"pandas.DataFrame with sparse columns found.\"\n",
      "C:\\Users\\npram\\anaconda3\\envs\\tenpy\\lib\\site-packages\\sklearn\\utils\\validation.py:516: UserWarning: pandas.DataFrame with sparse columns found.It will be converted to a dense numpy array.\n",
      "  \"pandas.DataFrame with sparse columns found.\"\n",
      "C:\\Users\\npram\\anaconda3\\envs\\tenpy\\lib\\site-packages\\sklearn\\utils\\validation.py:516: UserWarning: pandas.DataFrame with sparse columns found.It will be converted to a dense numpy array.\n",
      "  \"pandas.DataFrame with sparse columns found.\"\n",
      "C:\\Users\\npram\\anaconda3\\envs\\tenpy\\lib\\site-packages\\sklearn\\utils\\validation.py:516: UserWarning: pandas.DataFrame with sparse columns found.It will be converted to a dense numpy array.\n",
      "  \"pandas.DataFrame with sparse columns found.\"\n",
      "C:\\Users\\npram\\anaconda3\\envs\\tenpy\\lib\\site-packages\\sklearn\\utils\\validation.py:516: UserWarning: pandas.DataFrame with sparse columns found.It will be converted to a dense numpy array.\n",
      "  \"pandas.DataFrame with sparse columns found.\"\n",
      "C:\\Users\\npram\\anaconda3\\envs\\tenpy\\lib\\site-packages\\sklearn\\utils\\validation.py:516: UserWarning: pandas.DataFrame with sparse columns found.It will be converted to a dense numpy array.\n",
      "  \"pandas.DataFrame with sparse columns found.\"\n",
      "C:\\Users\\npram\\anaconda3\\envs\\tenpy\\lib\\site-packages\\sklearn\\utils\\validation.py:516: UserWarning: pandas.DataFrame with sparse columns found.It will be converted to a dense numpy array.\n",
      "  \"pandas.DataFrame with sparse columns found.\"\n",
      "C:\\Users\\npram\\anaconda3\\envs\\tenpy\\lib\\site-packages\\sklearn\\utils\\validation.py:516: UserWarning: pandas.DataFrame with sparse columns found.It will be converted to a dense numpy array.\n",
      "  \"pandas.DataFrame with sparse columns found.\"\n",
      "C:\\Users\\npram\\anaconda3\\envs\\tenpy\\lib\\site-packages\\sklearn\\utils\\validation.py:516: UserWarning: pandas.DataFrame with sparse columns found.It will be converted to a dense numpy array.\n",
      "  \"pandas.DataFrame with sparse columns found.\"\n",
      "C:\\Users\\npram\\anaconda3\\envs\\tenpy\\lib\\site-packages\\sklearn\\utils\\validation.py:516: UserWarning: pandas.DataFrame with sparse columns found.It will be converted to a dense numpy array.\n",
      "  \"pandas.DataFrame with sparse columns found.\"\n",
      "C:\\Users\\npram\\anaconda3\\envs\\tenpy\\lib\\site-packages\\sklearn\\utils\\validation.py:516: UserWarning: pandas.DataFrame with sparse columns found.It will be converted to a dense numpy array.\n",
      "  \"pandas.DataFrame with sparse columns found.\"\n",
      "C:\\Users\\npram\\anaconda3\\envs\\tenpy\\lib\\site-packages\\sklearn\\utils\\validation.py:516: UserWarning: pandas.DataFrame with sparse columns found.It will be converted to a dense numpy array.\n",
      "  \"pandas.DataFrame with sparse columns found.\"\n",
      "C:\\Users\\npram\\anaconda3\\envs\\tenpy\\lib\\site-packages\\sklearn\\utils\\validation.py:516: UserWarning: pandas.DataFrame with sparse columns found.It will be converted to a dense numpy array.\n",
      "  \"pandas.DataFrame with sparse columns found.\"\n",
      "C:\\Users\\npram\\anaconda3\\envs\\tenpy\\lib\\site-packages\\sklearn\\utils\\validation.py:516: UserWarning: pandas.DataFrame with sparse columns found.It will be converted to a dense numpy array.\n",
      "  \"pandas.DataFrame with sparse columns found.\"\n",
      "C:\\Users\\npram\\anaconda3\\envs\\tenpy\\lib\\site-packages\\sklearn\\utils\\validation.py:516: UserWarning: pandas.DataFrame with sparse columns found.It will be converted to a dense numpy array.\n",
      "  \"pandas.DataFrame with sparse columns found.\"\n",
      "C:\\Users\\npram\\anaconda3\\envs\\tenpy\\lib\\site-packages\\sklearn\\utils\\validation.py:516: UserWarning: pandas.DataFrame with sparse columns found.It will be converted to a dense numpy array.\n",
      "  \"pandas.DataFrame with sparse columns found.\"\n",
      "C:\\Users\\npram\\anaconda3\\envs\\tenpy\\lib\\site-packages\\sklearn\\utils\\validation.py:516: UserWarning: pandas.DataFrame with sparse columns found.It will be converted to a dense numpy array.\n",
      "  \"pandas.DataFrame with sparse columns found.\"\n",
      "C:\\Users\\npram\\anaconda3\\envs\\tenpy\\lib\\site-packages\\sklearn\\utils\\validation.py:516: UserWarning: pandas.DataFrame with sparse columns found.It will be converted to a dense numpy array.\n",
      "  \"pandas.DataFrame with sparse columns found.\"\n",
      "C:\\Users\\npram\\anaconda3\\envs\\tenpy\\lib\\site-packages\\sklearn\\utils\\validation.py:516: UserWarning: pandas.DataFrame with sparse columns found.It will be converted to a dense numpy array.\n",
      "  \"pandas.DataFrame with sparse columns found.\"\n",
      "C:\\Users\\npram\\anaconda3\\envs\\tenpy\\lib\\site-packages\\sklearn\\utils\\validation.py:516: UserWarning: pandas.DataFrame with sparse columns found.It will be converted to a dense numpy array.\n",
      "  \"pandas.DataFrame with sparse columns found.\"\n",
      "C:\\Users\\npram\\anaconda3\\envs\\tenpy\\lib\\site-packages\\sklearn\\utils\\validation.py:516: UserWarning: pandas.DataFrame with sparse columns found.It will be converted to a dense numpy array.\n",
      "  \"pandas.DataFrame with sparse columns found.\"\n",
      "C:\\Users\\npram\\anaconda3\\envs\\tenpy\\lib\\site-packages\\sklearn\\utils\\validation.py:516: UserWarning: pandas.DataFrame with sparse columns found.It will be converted to a dense numpy array.\n",
      "  \"pandas.DataFrame with sparse columns found.\"\n",
      "C:\\Users\\npram\\anaconda3\\envs\\tenpy\\lib\\site-packages\\sklearn\\utils\\validation.py:516: UserWarning: pandas.DataFrame with sparse columns found.It will be converted to a dense numpy array.\n",
      "  \"pandas.DataFrame with sparse columns found.\"\n",
      "C:\\Users\\npram\\anaconda3\\envs\\tenpy\\lib\\site-packages\\sklearn\\utils\\validation.py:516: UserWarning: pandas.DataFrame with sparse columns found.It will be converted to a dense numpy array.\n",
      "  \"pandas.DataFrame with sparse columns found.\"\n",
      "C:\\Users\\npram\\anaconda3\\envs\\tenpy\\lib\\site-packages\\sklearn\\utils\\validation.py:516: UserWarning: pandas.DataFrame with sparse columns found.It will be converted to a dense numpy array.\n",
      "  \"pandas.DataFrame with sparse columns found.\"\n",
      "C:\\Users\\npram\\anaconda3\\envs\\tenpy\\lib\\site-packages\\sklearn\\utils\\validation.py:516: UserWarning: pandas.DataFrame with sparse columns found.It will be converted to a dense numpy array.\n",
      "  \"pandas.DataFrame with sparse columns found.\"\n",
      "C:\\Users\\npram\\anaconda3\\envs\\tenpy\\lib\\site-packages\\sklearn\\utils\\validation.py:516: UserWarning: pandas.DataFrame with sparse columns found.It will be converted to a dense numpy array.\n",
      "  \"pandas.DataFrame with sparse columns found.\"\n",
      "C:\\Users\\npram\\anaconda3\\envs\\tenpy\\lib\\site-packages\\sklearn\\utils\\validation.py:516: UserWarning: pandas.DataFrame with sparse columns found.It will be converted to a dense numpy array.\n",
      "  \"pandas.DataFrame with sparse columns found.\"\n",
      "C:\\Users\\npram\\anaconda3\\envs\\tenpy\\lib\\site-packages\\sklearn\\utils\\validation.py:516: UserWarning: pandas.DataFrame with sparse columns found.It will be converted to a dense numpy array.\n",
      "  \"pandas.DataFrame with sparse columns found.\"\n",
      "C:\\Users\\npram\\anaconda3\\envs\\tenpy\\lib\\site-packages\\sklearn\\utils\\validation.py:516: UserWarning: pandas.DataFrame with sparse columns found.It will be converted to a dense numpy array.\n",
      "  \"pandas.DataFrame with sparse columns found.\"\n",
      "C:\\Users\\npram\\anaconda3\\envs\\tenpy\\lib\\site-packages\\sklearn\\utils\\validation.py:516: UserWarning: pandas.DataFrame with sparse columns found.It will be converted to a dense numpy array.\n",
      "  \"pandas.DataFrame with sparse columns found.\"\n",
      "C:\\Users\\npram\\anaconda3\\envs\\tenpy\\lib\\site-packages\\sklearn\\utils\\validation.py:516: UserWarning: pandas.DataFrame with sparse columns found.It will be converted to a dense numpy array.\n",
      "  \"pandas.DataFrame with sparse columns found.\"\n",
      "C:\\Users\\npram\\anaconda3\\envs\\tenpy\\lib\\site-packages\\sklearn\\utils\\validation.py:516: UserWarning: pandas.DataFrame with sparse columns found.It will be converted to a dense numpy array.\n",
      "  \"pandas.DataFrame with sparse columns found.\"\n",
      "C:\\Users\\npram\\anaconda3\\envs\\tenpy\\lib\\site-packages\\sklearn\\utils\\validation.py:516: UserWarning: pandas.DataFrame with sparse columns found.It will be converted to a dense numpy array.\n",
      "  \"pandas.DataFrame with sparse columns found.\"\n",
      "C:\\Users\\npram\\anaconda3\\envs\\tenpy\\lib\\site-packages\\sklearn\\utils\\validation.py:516: UserWarning: pandas.DataFrame with sparse columns found.It will be converted to a dense numpy array.\n",
      "  \"pandas.DataFrame with sparse columns found.\"\n",
      "C:\\Users\\npram\\anaconda3\\envs\\tenpy\\lib\\site-packages\\sklearn\\utils\\validation.py:516: UserWarning: pandas.DataFrame with sparse columns found.It will be converted to a dense numpy array.\n",
      "  \"pandas.DataFrame with sparse columns found.\"\n",
      "C:\\Users\\npram\\anaconda3\\envs\\tenpy\\lib\\site-packages\\sklearn\\utils\\validation.py:516: UserWarning: pandas.DataFrame with sparse columns found.It will be converted to a dense numpy array.\n",
      "  \"pandas.DataFrame with sparse columns found.\"\n",
      "C:\\Users\\npram\\anaconda3\\envs\\tenpy\\lib\\site-packages\\sklearn\\utils\\validation.py:516: UserWarning: pandas.DataFrame with sparse columns found.It will be converted to a dense numpy array.\n",
      "  \"pandas.DataFrame with sparse columns found.\"\n",
      "C:\\Users\\npram\\anaconda3\\envs\\tenpy\\lib\\site-packages\\sklearn\\utils\\validation.py:516: UserWarning: pandas.DataFrame with sparse columns found.It will be converted to a dense numpy array.\n",
      "  \"pandas.DataFrame with sparse columns found.\"\n",
      "C:\\Users\\npram\\anaconda3\\envs\\tenpy\\lib\\site-packages\\sklearn\\utils\\validation.py:516: UserWarning: pandas.DataFrame with sparse columns found.It will be converted to a dense numpy array.\n",
      "  \"pandas.DataFrame with sparse columns found.\"\n",
      "C:\\Users\\npram\\anaconda3\\envs\\tenpy\\lib\\site-packages\\sklearn\\utils\\validation.py:516: UserWarning: pandas.DataFrame with sparse columns found.It will be converted to a dense numpy array.\n",
      "  \"pandas.DataFrame with sparse columns found.\"\n",
      "C:\\Users\\npram\\anaconda3\\envs\\tenpy\\lib\\site-packages\\sklearn\\utils\\validation.py:516: UserWarning: pandas.DataFrame with sparse columns found.It will be converted to a dense numpy array.\n",
      "  \"pandas.DataFrame with sparse columns found.\"\n"
     ]
    },
    {
     "output_type": "execute_result",
     "data": {
      "text/plain": [
       "(RandomizedSearchCV(cv=6, estimator=RandomForestRegressor(), n_iter=40,\n",
       "                    param_distributions={'max_depth': array([ 1,  3,  5,  7,  9, 11]),\n",
       "                                         'max_features': [0.5, 1, 'sqrt',\n",
       "                                                          'auto'],\n",
       "                                         'min_samples_leaf': array([1]),\n",
       "                                         'min_samples_split': array([ 2,  4,  6,  8, 10, 12, 14, 16, 18]),\n",
       "                                         'n_estimators': array([ 10,  20,  30,  40,  50,  60,  70,  80,  90, 100, 110, 120, 130,\n",
       "        140, 150, 160, 170, 180, 190])},\n",
       "                    verbose=True),\n",
       " 0.43)"
      ]
     },
     "metadata": {},
     "execution_count": 9
    }
   ],
   "source": [
    "from app.train import train\n",
    "\n",
    "train(DATA_DIR / 'train.csv', MODELS_DIR)"
   ]
  },
  {
   "cell_type": "code",
   "execution_count": 10,
   "id": "potential-fluid",
   "metadata": {},
   "outputs": [
    {
     "output_type": "execute_result",
     "data": {
      "text/plain": [
       "      MSSubClass MSZoning  LotFrontage  LotArea Street Alley LotShape  \\\n",
       "Id                                                                      \n",
       "1461          20       RH         80.0    11622   Pave   NaN      Reg   \n",
       "1462          20       RL         81.0    14267   Pave   NaN      IR1   \n",
       "1463          60       RL         74.0    13830   Pave   NaN      IR1   \n",
       "1464          60       RL         78.0     9978   Pave   NaN      IR1   \n",
       "1465         120       RL         43.0     5005   Pave   NaN      IR1   \n",
       "\n",
       "     LandContour Utilities LotConfig  ... ScreenPorch PoolArea PoolQC  Fence  \\\n",
       "Id                                    ...                                      \n",
       "1461         Lvl    AllPub    Inside  ...         120        0    NaN  MnPrv   \n",
       "1462         Lvl    AllPub    Corner  ...           0        0    NaN    NaN   \n",
       "1463         Lvl    AllPub    Inside  ...           0        0    NaN  MnPrv   \n",
       "1464         Lvl    AllPub    Inside  ...           0        0    NaN    NaN   \n",
       "1465         HLS    AllPub    Inside  ...         144        0    NaN    NaN   \n",
       "\n",
       "     MiscFeature MiscVal  MoSold  YrSold  SaleType  SaleCondition  \n",
       "Id                                                                 \n",
       "1461         NaN       0       6    2010        WD         Normal  \n",
       "1462        Gar2   12500       6    2010        WD         Normal  \n",
       "1463         NaN       0       3    2010        WD         Normal  \n",
       "1464         NaN       0       6    2010        WD         Normal  \n",
       "1465         NaN       0       1    2010        WD         Normal  \n",
       "\n",
       "[5 rows x 79 columns]"
      ],
      "text/html": "<div>\n<style scoped>\n    .dataframe tbody tr th:only-of-type {\n        vertical-align: middle;\n    }\n\n    .dataframe tbody tr th {\n        vertical-align: top;\n    }\n\n    .dataframe thead th {\n        text-align: right;\n    }\n</style>\n<table border=\"1\" class=\"dataframe\">\n  <thead>\n    <tr style=\"text-align: right;\">\n      <th></th>\n      <th>MSSubClass</th>\n      <th>MSZoning</th>\n      <th>LotFrontage</th>\n      <th>LotArea</th>\n      <th>Street</th>\n      <th>Alley</th>\n      <th>LotShape</th>\n      <th>LandContour</th>\n      <th>Utilities</th>\n      <th>LotConfig</th>\n      <th>...</th>\n      <th>ScreenPorch</th>\n      <th>PoolArea</th>\n      <th>PoolQC</th>\n      <th>Fence</th>\n      <th>MiscFeature</th>\n      <th>MiscVal</th>\n      <th>MoSold</th>\n      <th>YrSold</th>\n      <th>SaleType</th>\n      <th>SaleCondition</th>\n    </tr>\n    <tr>\n      <th>Id</th>\n      <th></th>\n      <th></th>\n      <th></th>\n      <th></th>\n      <th></th>\n      <th></th>\n      <th></th>\n      <th></th>\n      <th></th>\n      <th></th>\n      <th></th>\n      <th></th>\n      <th></th>\n      <th></th>\n      <th></th>\n      <th></th>\n      <th></th>\n      <th></th>\n      <th></th>\n      <th></th>\n      <th></th>\n    </tr>\n  </thead>\n  <tbody>\n    <tr>\n      <th>1461</th>\n      <td>20</td>\n      <td>RH</td>\n      <td>80.0</td>\n      <td>11622</td>\n      <td>Pave</td>\n      <td>NaN</td>\n      <td>Reg</td>\n      <td>Lvl</td>\n      <td>AllPub</td>\n      <td>Inside</td>\n      <td>...</td>\n      <td>120</td>\n      <td>0</td>\n      <td>NaN</td>\n      <td>MnPrv</td>\n      <td>NaN</td>\n      <td>0</td>\n      <td>6</td>\n      <td>2010</td>\n      <td>WD</td>\n      <td>Normal</td>\n    </tr>\n    <tr>\n      <th>1462</th>\n      <td>20</td>\n      <td>RL</td>\n      <td>81.0</td>\n      <td>14267</td>\n      <td>Pave</td>\n      <td>NaN</td>\n      <td>IR1</td>\n      <td>Lvl</td>\n      <td>AllPub</td>\n      <td>Corner</td>\n      <td>...</td>\n      <td>0</td>\n      <td>0</td>\n      <td>NaN</td>\n      <td>NaN</td>\n      <td>Gar2</td>\n      <td>12500</td>\n      <td>6</td>\n      <td>2010</td>\n      <td>WD</td>\n      <td>Normal</td>\n    </tr>\n    <tr>\n      <th>1463</th>\n      <td>60</td>\n      <td>RL</td>\n      <td>74.0</td>\n      <td>13830</td>\n      <td>Pave</td>\n      <td>NaN</td>\n      <td>IR1</td>\n      <td>Lvl</td>\n      <td>AllPub</td>\n      <td>Inside</td>\n      <td>...</td>\n      <td>0</td>\n      <td>0</td>\n      <td>NaN</td>\n      <td>MnPrv</td>\n      <td>NaN</td>\n      <td>0</td>\n      <td>3</td>\n      <td>2010</td>\n      <td>WD</td>\n      <td>Normal</td>\n    </tr>\n    <tr>\n      <th>1464</th>\n      <td>60</td>\n      <td>RL</td>\n      <td>78.0</td>\n      <td>9978</td>\n      <td>Pave</td>\n      <td>NaN</td>\n      <td>IR1</td>\n      <td>Lvl</td>\n      <td>AllPub</td>\n      <td>Inside</td>\n      <td>...</td>\n      <td>0</td>\n      <td>0</td>\n      <td>NaN</td>\n      <td>NaN</td>\n      <td>NaN</td>\n      <td>0</td>\n      <td>6</td>\n      <td>2010</td>\n      <td>WD</td>\n      <td>Normal</td>\n    </tr>\n    <tr>\n      <th>1465</th>\n      <td>120</td>\n      <td>RL</td>\n      <td>43.0</td>\n      <td>5005</td>\n      <td>Pave</td>\n      <td>NaN</td>\n      <td>IR1</td>\n      <td>HLS</td>\n      <td>AllPub</td>\n      <td>Inside</td>\n      <td>...</td>\n      <td>144</td>\n      <td>0</td>\n      <td>NaN</td>\n      <td>NaN</td>\n      <td>NaN</td>\n      <td>0</td>\n      <td>1</td>\n      <td>2010</td>\n      <td>WD</td>\n      <td>Normal</td>\n    </tr>\n  </tbody>\n</table>\n<p>5 rows × 79 columns</p>\n</div>"
     },
     "metadata": {},
     "execution_count": 10
    }
   ],
   "source": [
    "inference_df = pd.read_csv(DATA_DIR / 'test.csv', index_col='Id')\n",
    "inference_df.head()"
   ]
  },
  {
   "cell_type": "code",
   "execution_count": 11,
   "id": "passive-academy",
   "metadata": {},
   "outputs": [
    {
     "output_type": "stream",
     "name": "stderr",
     "text": [
      "C:\\Users\\npram\\anaconda3\\envs\\tenpy\\lib\\site-packages\\sklearn\\utils\\validation.py:516: UserWarning: pandas.DataFrame with sparse columns found.It will be converted to a dense numpy array.\n  \"pandas.DataFrame with sparse columns found.\"\n"
     ]
    }
   ],
   "source": [
    "from app.inference import inference\n",
    "\n",
    "prediction = inference(MODELS_DIR, data=inference_df)"
   ]
  },
  {
   "cell_type": "code",
   "execution_count": 12,
   "metadata": {},
   "outputs": [
    {
     "output_type": "stream",
     "name": "stdout",
     "text": [
      "c:\\Users\\npram\\Desktop\\EPITA\\CLASS and NOTES\\SEM2\\Data_science_production\\dsp-correction\\data\\house-prices\n"
     ]
    }
   ],
   "source": [
    "cd data/house-prices/"
   ]
  },
  {
   "cell_type": "code",
   "execution_count": 14,
   "id": "pleased-coating",
   "metadata": {},
   "outputs": [
    {
     "output_type": "error",
     "ename": "ImportError",
     "evalue": "cannot import name 'submission'",
     "traceback": [
      "\u001b[1;31m---------------------------------------------------------------------------\u001b[0m",
      "\u001b[1;31mImportError\u001b[0m                               Traceback (most recent call last)",
      "\u001b[1;32m<ipython-input-14-df10a17605a2>\u001b[0m in \u001b[0;36m<module>\u001b[1;34m\u001b[0m\n\u001b[1;32m----> 1\u001b[1;33m \u001b[1;32mfrom\u001b[0m \u001b[0mapp\u001b[0m\u001b[1;33m.\u001b[0m\u001b[0mmake_submission\u001b[0m \u001b[1;32mimport\u001b[0m \u001b[0msubmission\u001b[0m\u001b[1;33m\u001b[0m\u001b[1;33m\u001b[0m\u001b[0m\n\u001b[0m\u001b[0;32m      2\u001b[0m \u001b[1;33m\u001b[0m\u001b[0m\n\u001b[0;32m      3\u001b[0m \u001b[0mId_columns\u001b[0m \u001b[1;33m=\u001b[0m \u001b[0minference_df\u001b[0m\u001b[1;33m.\u001b[0m\u001b[0mindex\u001b[0m\u001b[1;33m\u001b[0m\u001b[1;33m\u001b[0m\u001b[0m\n\u001b[0;32m      4\u001b[0m \u001b[1;33m\u001b[0m\u001b[0m\n\u001b[0;32m      5\u001b[0m \u001b[0msubmission\u001b[0m\u001b[1;33m(\u001b[0m\u001b[0mId_columns\u001b[0m\u001b[1;33m,\u001b[0m \u001b[0mprediction\u001b[0m\u001b[1;33m)\u001b[0m\u001b[1;33m\u001b[0m\u001b[1;33m\u001b[0m\u001b[0m\n",
      "\u001b[1;31mImportError\u001b[0m: cannot import name 'submission'"
     ]
    }
   ],
   "source": [
    "from app.make_submission import submission\n",
    "\n",
    "Id_columns = inference_df.index\n",
    "\n",
    "submission(Id_columns, prediction)"
   ]
  },
  {
   "cell_type": "code",
   "execution_count": 40,
   "metadata": {},
   "outputs": [
    {
     "output_type": "stream",
     "name": "stderr",
     "text": [
      "Traceback (most recent call last):\n  File \"c:\\users\\npram\\anaconda3\\envs\\tenpy\\lib\\runpy.py\", line 193, in _run_module_as_main\n    \"__main__\", mod_spec)\n  File \"c:\\users\\npram\\anaconda3\\envs\\tenpy\\lib\\runpy.py\", line 85, in _run_code\n    exec(code, run_globals)\n  File \"C:\\Users\\npram\\anaconda3\\envs\\tenpy\\Scripts\\kaggle.exe\\__main__.py\", line 7, in <module>\n  File \"c:\\users\\npram\\anaconda3\\envs\\tenpy\\lib\\site-packages\\kaggle\\cli.py\", line 67, in main\n    out = args.func(**command_args)\n  File \"c:\\users\\npram\\anaconda3\\envs\\tenpy\\lib\\site-packages\\kaggle\\api\\kaggle_api_extended.py\", line 562, in competition_submit_cli\n    competition, quiet)\n  File \"c:\\users\\npram\\anaconda3\\envs\\tenpy\\lib\\site-packages\\kaggle\\api\\kaggle_api_extended.py\", line 513, in competition_submit\n    content_length=os.path.getsize(file_name),\n  File \"c:\\users\\npram\\anaconda3\\envs\\tenpy\\lib\\genericpath.py\", line 50, in getsize\n    return os.stat(filename).st_size\nFileNotFoundError: [WinError 2] The system cannot find the file specified: './submission.csv'\n"
     ]
    }
   ],
   "source": [
    "!kaggle competitions submit -c house-prices-advanced-regression-techniques -f ./submission.csv -m \"File submission\""
   ]
  },
  {
   "cell_type": "code",
   "execution_count": 33,
   "metadata": {},
   "outputs": [
    {
     "output_type": "stream",
     "name": "stdout",
     "text": [
      "fileName          date                 description                                              status    publicScore  privateScore  \n",
      "----------------  -------------------  -------------------------------------------------------  --------  -----------  ------------  \n",
      "submission.csv    2021-06-08 11:58:23  File submission                                          error     None         None          \n",
      "submission.csv    2021-06-08 11:44:03  File submission                                          error     None         None          \n",
      "Submission.csv    2021-04-17 11:01:16  None                                                     complete  0.14897      None          \n",
      "Submission.csv    2021-04-14 11:42:16                                                           complete  0.14706      None          \n",
      "submission.csv    2021-04-10 07:54:52  House price prediction using ML Regression model Python  complete  0.14659      None          \n",
      "submission.csv    2021-04-10 07:53:20  House price prediction using ML Regression model Python  error     None         None          \n",
      "submission.xlsx   2021-04-10 07:38:55                                                           error     None         None          \n",
      "submission.xlsx   2021-04-10 07:37:06  House price prediction using ML Regression model Python  error     None         None          \n",
      "submission.xlsx   2021-04-10 07:22:49  House price prediction using Regression model python     error     None         None          \n",
      "submission.xlsx   2021-04-09 21:04:18  None                                                     error     None         None          \n",
      "submission.xlsx   2021-04-09 21:02:10  None                                                     error     None         None          \n",
      "submission.xlsx   2021-04-09 20:59:14                                                           error     None         None          \n",
      "submission.xlsx   2021-04-09 20:57:49  House price prediction using Regression model Python     error     None         None          \n",
      "submission.xlsx   2021-04-09 20:56:18  House prediction using Regression model python           error     None         None          \n",
      "submission.xlsx   2021-04-09 20:55:18  House price prediction using Regressions model Python    error     None         None          \n",
      "submission.xlsx   2021-04-09 20:46:01  House price prediction using Regression model python     error     None         None          \n",
      "Result_file.xlsx  2021-04-09 20:44:13  House prediction using Regression methods python         error     None         None          \n",
      "Result_file.xlsx  2021-04-09 20:40:34  I wrote the program in python.                           error     None         None          \n"
     ]
    }
   ],
   "source": [
    "!kaggle competitions submissions -c house-prices-advanced-regression-techniques"
   ]
  },
  {
   "cell_type": "code",
   "execution_count": null,
   "metadata": {},
   "outputs": [],
   "source": []
  }
 ],
 "metadata": {
  "kernelspec": {
   "name": "python3610jvsc74a57bd0798f5b5431e37c71aaf89733b493b653dbf725e4fef1afdf5d2e121c202eac10",
   "display_name": "Python 3.6.10 64-bit ('tenpy': conda)"
  },
  "language_info": {
   "codemirror_mode": {
    "name": "ipython",
    "version": 3
   },
   "file_extension": ".py",
   "mimetype": "text/x-python",
   "name": "python",
   "nbconvert_exporter": "python",
   "pygments_lexer": "ipython3",
   "version": "3.6.10"
  },
  "toc": {
   "base_numbering": 1,
   "nav_menu": {},
   "number_sections": true,
   "sideBar": true,
   "skip_h1_title": false,
   "title_cell": "Table of Contents",
   "title_sidebar": "Contents",
   "toc_cell": false,
   "toc_position": {},
   "toc_section_display": true,
   "toc_window_display": false
  }
 },
 "nbformat": 4,
 "nbformat_minor": 5
}